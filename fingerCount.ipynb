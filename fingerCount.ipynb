{
 "cells": [
  {
   "cell_type": "code",
   "execution_count": 25,
   "metadata": {},
   "outputs": [],
   "source": [
    "import cv2\n",
    "import numpy as np\n",
    "from sklearn.metrics import pairwise"
   ]
  },
  {
   "cell_type": "code",
   "execution_count": 26,
   "metadata": {},
   "outputs": [],
   "source": [
    "background = None\n",
    "accumulated_weight = 0.5\n",
    "roi_top = 20\n",
    "roi_bottom = 300\n",
    "roi_right = 300\n",
    "roi_left = 600"
   ]
  },
  {
   "cell_type": "code",
   "execution_count": null,
   "metadata": {},
   "outputs": [],
   "source": []
  },
  {
   "cell_type": "code",
   "execution_count": 27,
   "metadata": {},
   "outputs": [],
   "source": [
    "def calc_accum_avg(frame, accumulated_weight):\n",
    "    global background\n",
    "    \n",
    "    if background is None:\n",
    "        background = frame.copy().astype(\"float\")\n",
    "        return None\n",
    "    cv2.accumulateWeighted(frame, background, accumulated_weight)"
   ]
  },
  {
   "cell_type": "code",
   "execution_count": null,
   "metadata": {},
   "outputs": [],
   "source": []
  },
  {
   "cell_type": "code",
   "execution_count": null,
   "metadata": {},
   "outputs": [],
   "source": []
  },
  {
   "cell_type": "code",
   "execution_count": 28,
   "metadata": {},
   "outputs": [],
   "source": [
    "def segment(frame, threshold=25):\n",
    "    global background\n",
    "    diff = cv2.absdiff(background.astype(\"uint8\"), frame)\n",
    "\n",
    "    _ , thresholded = cv2.threshold(diff, threshold, 255, cv2.THRESH_BINARY)\n",
    "\n",
    "    contours, hierarchy = cv2.findContours(thresholded.copy(), cv2.RETR_EXTERNAL, cv2.CHAIN_APPROX_SIMPLE)\n",
    "\n",
    "    if len(contours) == 0:\n",
    "        return None\n",
    "    else:\n",
    "    \n",
    "        hand_segment = max(contours, key=cv2.contourArea)\n",
    "        \n",
    "        return (thresholded, hand_segment)"
   ]
  },
  {
   "cell_type": "code",
   "execution_count": null,
   "metadata": {},
   "outputs": [],
   "source": []
  },
  {
   "cell_type": "code",
   "execution_count": 29,
   "metadata": {},
   "outputs": [],
   "source": [
    "def count_fingers(thresholded, hand_segment):\n",
    "    \n",
    "    \n",
    "    conv_hull = cv2.convexHull(hand_segment)\n",
    "   \n",
    "    top    = tuple(conv_hull[conv_hull[:, :, 1].argmin()][0])\n",
    "    bottom = tuple(conv_hull[conv_hull[:, :, 1].argmax()][0])\n",
    "    left   = tuple(conv_hull[conv_hull[:, :, 0].argmin()][0])\n",
    "    right  = tuple(conv_hull[conv_hull[:, :, 0].argmax()][0])\n",
    "\n",
    "    cX = (left[0] + right[0]) // 2\n",
    "    cY = (top[1] + bottom[1]) // 2\n",
    " \n",
    "    distance = pairwise.euclidean_distances([(cX, cY)], Y=[left, right, top, bottom])[0]\n",
    "    \n",
    "    # Grab the largest distance\n",
    "    max_distance = distance.max()\n",
    "    \n",
    "    radius = int(0.8 * max_distance)\n",
    "    circumference = (2 * np.pi * radius)\n",
    "\n",
    "    circular_roi = np.zeros(thresholded.shape[:2], dtype=\"uint8\")\n",
    "    \n",
    "    # draw the circular ROI\n",
    "    cv2.circle(circular_roi, (cX, cY), radius, 255, 10)\n",
    "    \n",
    "\n",
    "    circular_roi = cv2.bitwise_and(thresholded, thresholded, mask=circular_roi)\n",
    "\n",
    "    contours, hierarchy = cv2.findContours(circular_roi.copy(), cv2.RETR_EXTERNAL, cv2.CHAIN_APPROX_NONE)\n",
    "\n",
    "    count = 0\n",
    "\n",
    "    for cnt in contours:\n",
    "        \n",
    "        (x, y, w, h) = cv2.boundingRect(cnt)\n",
    "        \n",
    "        out_of_wrist = ((cY + (cY * 0.25)) > (y + h))\n",
    "        \n",
    "        limit_points = ((circumference * 0.25) > cnt.shape[0])\n",
    "        \n",
    "        \n",
    "        if  out_of_wrist and limit_points:\n",
    "            count += 1\n",
    "\n",
    "    return count"
   ]
  },
  {
   "cell_type": "code",
   "execution_count": null,
   "metadata": {},
   "outputs": [],
   "source": []
  },
  {
   "cell_type": "code",
   "execution_count": 30,
   "metadata": {
    "scrolled": true
   },
   "outputs": [],
   "source": [
    "cam = cv2.VideoCapture(0)\n",
    "num_frames = 0\n",
    "\n",
    "while True:\n",
    "    ret, frame = cam.read()\n",
    "    frame = cv2.flip(frame, 1)\n",
    "    frame_copy = frame.copy()\n",
    "    roi = frame[roi_top:roi_bottom, roi_right:roi_left]\n",
    "    \n",
    "    gray = cv2.cvtColor(roi, cv2.COLOR_BGR2GRAY)\n",
    "    gray = cv2.GaussianBlur(gray, (7, 7), 0)\n",
    "    \n",
    "    if num_frames < 60:\n",
    "        calc_accum_avg(gray, accumulated_weight)\n",
    "        if num_frames <= 59:\n",
    "            cv2.putText(frame_copy, \"WAIT! GETTING BACKGROUND AVG.\", (200, 400), cv2.FONT_HERSHEY_SIMPLEX, 1, (0,0,255), 2)\n",
    "            cv2.imshow(\"Finger Count\",frame_copy)\n",
    "            \n",
    "    else:\n",
    "        hand = segment(gray)\n",
    "        \n",
    "        if hand is not None:\n",
    "            \n",
    "            thresholded, hand_segment = hand\n",
    "            cv2.drawContours(frame_copy, [hand_segment + (roi_right, roi_top)], -1, (255, 0, 0),1)    \n",
    "            fingers = count_fingers(thresholded, hand_segment)\n",
    "\n",
    "            \n",
    "            cv2.putText(frame_copy, str(fingers), (70, 45), cv2.FONT_HERSHEY_SIMPLEX, 1, (0,0,255), 2)            \n",
    "            cv2.imshow(\"Thesholded\", thresholded)          \n",
    "    cv2.rectangle(frame_copy, (roi_left, roi_top), (roi_right, roi_bottom), (0,0,255), 5)\n",
    "\n",
    "    num_frames += 1\n",
    "    cv2.imshow(\"Finger Count\", frame_copy)\n",
    "\n",
    "\n",
    "    # Close windows with Esc\n",
    "    k = cv2.waitKey(1) & 0xFF\n",
    "\n",
    "    if k == 27:\n",
    "        break\n",
    "\n",
    "cam.release()\n",
    "cv2.destroyAllWindows()"
   ]
  },
  {
   "cell_type": "code",
   "execution_count": null,
   "metadata": {},
   "outputs": [],
   "source": []
  },
  {
   "cell_type": "code",
   "execution_count": null,
   "metadata": {},
   "outputs": [],
   "source": []
  },
  {
   "cell_type": "code",
   "execution_count": null,
   "metadata": {},
   "outputs": [],
   "source": []
  },
  {
   "cell_type": "code",
   "execution_count": null,
   "metadata": {},
   "outputs": [],
   "source": []
  },
  {
   "cell_type": "code",
   "execution_count": null,
   "metadata": {},
   "outputs": [],
   "source": []
  },
  {
   "cell_type": "code",
   "execution_count": null,
   "metadata": {},
   "outputs": [],
   "source": []
  },
  {
   "cell_type": "code",
   "execution_count": null,
   "metadata": {},
   "outputs": [],
   "source": []
  }
 ],
 "metadata": {
  "kernelspec": {
   "display_name": "Python 3",
   "language": "python",
   "name": "python3"
  },
  "language_info": {
   "codemirror_mode": {
    "name": "ipython",
    "version": 3
   },
   "file_extension": ".py",
   "mimetype": "text/x-python",
   "name": "python",
   "nbconvert_exporter": "python",
   "pygments_lexer": "ipython3",
   "version": "3.6.8"
  }
 },
 "nbformat": 4,
 "nbformat_minor": 2
}
